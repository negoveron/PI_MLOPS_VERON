{
 "cells": [
  {
   "cell_type": "code",
   "execution_count": 2,
   "metadata": {},
   "outputs": [],
   "source": [
    "#Se imprtan las librerias necesarias\n",
    "\n",
    "import ast\n",
    "import pandas as pd\n",
    "import numpy as np"
   ]
  },
  {
   "cell_type": "markdown",
   "metadata": {},
   "source": [
    "## Etapas propuestas para este proyecto\n",
    "\n",
    "* cargar cada archivo, decomprimirlo, decodearlo\n",
    "\n",
    "* eliminar keys duplicadas\n",
    "\n",
    "* flatenizar jsons anidados\n",
    "\n",
    "* eliminar filas vacias\n",
    "\n",
    "* guardar como csv"
   ]
  },
  {
   "cell_type": "markdown",
   "metadata": {},
   "source": [
    "# movies_dataset ETL"
   ]
  },
  {
   "cell_type": "code",
   "execution_count": 3,
   "metadata": {},
   "outputs": [
    {
     "data": {
      "text/html": [
       "<div>\n",
       "<style scoped>\n",
       "    .dataframe tbody tr th:only-of-type {\n",
       "        vertical-align: middle;\n",
       "    }\n",
       "\n",
       "    .dataframe tbody tr th {\n",
       "        vertical-align: top;\n",
       "    }\n",
       "\n",
       "    .dataframe thead th {\n",
       "        text-align: right;\n",
       "    }\n",
       "</style>\n",
       "<table border=\"1\" class=\"dataframe\">\n",
       "  <thead>\n",
       "    <tr style=\"text-align: right;\">\n",
       "      <th></th>\n",
       "      <th>adult</th>\n",
       "      <th>belongs_to_collection</th>\n",
       "      <th>budget</th>\n",
       "      <th>genres</th>\n",
       "      <th>homepage</th>\n",
       "      <th>id</th>\n",
       "      <th>imdb_id</th>\n",
       "      <th>original_language</th>\n",
       "      <th>original_title</th>\n",
       "      <th>overview</th>\n",
       "      <th>...</th>\n",
       "      <th>release_date</th>\n",
       "      <th>revenue</th>\n",
       "      <th>runtime</th>\n",
       "      <th>spoken_languages</th>\n",
       "      <th>status</th>\n",
       "      <th>tagline</th>\n",
       "      <th>title</th>\n",
       "      <th>video</th>\n",
       "      <th>vote_average</th>\n",
       "      <th>vote_count</th>\n",
       "    </tr>\n",
       "  </thead>\n",
       "  <tbody>\n",
       "    <tr>\n",
       "      <th>0</th>\n",
       "      <td>False</td>\n",
       "      <td>{'id': 10194, 'name': 'Toy Story Collection', ...</td>\n",
       "      <td>30000000</td>\n",
       "      <td>[{'id': 16, 'name': 'Animation'}, {'id': 35, '...</td>\n",
       "      <td>http://toystory.disney.com/toy-story</td>\n",
       "      <td>862</td>\n",
       "      <td>tt0114709</td>\n",
       "      <td>en</td>\n",
       "      <td>Toy Story</td>\n",
       "      <td>Led by Woody, Andy's toys live happily in his ...</td>\n",
       "      <td>...</td>\n",
       "      <td>1995-10-30</td>\n",
       "      <td>373554033.0</td>\n",
       "      <td>81.0</td>\n",
       "      <td>[{'iso_639_1': 'en', 'name': 'English'}]</td>\n",
       "      <td>Released</td>\n",
       "      <td>NaN</td>\n",
       "      <td>Toy Story</td>\n",
       "      <td>False</td>\n",
       "      <td>7.7</td>\n",
       "      <td>5415.0</td>\n",
       "    </tr>\n",
       "  </tbody>\n",
       "</table>\n",
       "<p>1 rows × 24 columns</p>\n",
       "</div>"
      ],
      "text/plain": [
       "   adult                              belongs_to_collection    budget  \\\n",
       "0  False  {'id': 10194, 'name': 'Toy Story Collection', ...  30000000   \n",
       "\n",
       "                                              genres  \\\n",
       "0  [{'id': 16, 'name': 'Animation'}, {'id': 35, '...   \n",
       "\n",
       "                               homepage   id    imdb_id original_language  \\\n",
       "0  http://toystory.disney.com/toy-story  862  tt0114709                en   \n",
       "\n",
       "  original_title                                           overview  ...  \\\n",
       "0      Toy Story  Led by Woody, Andy's toys live happily in his ...  ...   \n",
       "\n",
       "  release_date      revenue runtime                          spoken_languages  \\\n",
       "0   1995-10-30  373554033.0    81.0  [{'iso_639_1': 'en', 'name': 'English'}]   \n",
       "\n",
       "     status  tagline      title  video vote_average vote_count  \n",
       "0  Released      NaN  Toy Story  False          7.7     5415.0  \n",
       "\n",
       "[1 rows x 24 columns]"
      ]
     },
     "execution_count": 3,
     "metadata": {},
     "output_type": "execute_result"
    }
   ],
   "source": [
    "#lectura \n",
    "movies = pd.read_csv('data/movies_dataset.csv',delimiter = ',',encoding = \"utf-8\",low_memory=False)\n",
    "movies.head(1)\n"
   ]
  },
  {
   "cell_type": "code",
   "execution_count": 4,
   "metadata": {},
   "outputs": [],
   "source": [
    "# se guarda el original\n",
    "movies_ori = movies.copy()"
   ]
  },
  {
   "cell_type": "code",
   "execution_count": 20,
   "metadata": {},
   "outputs": [
    {
     "data": {
      "text/plain": [
       "(45466, 24)"
      ]
     },
     "execution_count": 20,
     "metadata": {},
     "output_type": "execute_result"
    }
   ],
   "source": [
    "#dimensiones\n",
    "movies.shape"
   ]
  },
  {
   "cell_type": "code",
   "execution_count": 21,
   "metadata": {},
   "outputs": [
    {
     "name": "stdout",
     "output_type": "stream",
     "text": [
      "id distintos: 45436\n",
      "id nulos: 0\n",
      "imdb_id distintos: 45417\n",
      "imdb_id nulos: 17\n"
     ]
    }
   ],
   "source": [
    "#se cuentan valores unicos de id e imdb_id\n",
    "print(f\"id distintos: {movies['id'].nunique()}\")\n",
    "print(f\"id nulos: {movies['id'].isnull().sum()}\")\n",
    "print(f\"imdb_id distintos: {movies['imdb_id'].nunique()}\")\n",
    "print(f\"imdb_id nulos: {movies['imdb_id'].isnull().sum()}\")"
   ]
  },
  {
   "cell_type": "code",
   "execution_count": 27,
   "metadata": {},
   "outputs": [],
   "source": [
    "movies = movies_ori"
   ]
  },
  {
   "cell_type": "code",
   "execution_count": 5,
   "metadata": {},
   "outputs": [
    {
     "name": "stdout",
     "output_type": "stream",
     "text": [
      "cantidad de imdb_id sin duplicados: 45418\n",
      "cantidad de imdb_id sin nulos: 45333\n"
     ]
    }
   ],
   "source": [
    "#se eliminan duplicados y nulos de imdb_id\n",
    "movies.drop_duplicates(subset=\"imdb_id\", inplace=True)\n",
    "print(f\"cantidad de imdb_id sin duplicados: {movies['imdb_id'].size}\")\n",
    "\n",
    "#se completan con ceros los nulos de revenue, budget\n",
    "movies['revenue'].fillna(0)\n",
    "movies['budget'].fillna(0)\n",
    "\n",
    "#se eliminan nulos\n",
    "\n",
    "movies = movies.dropna(subset=['imdb_id','release_date'], how = 'any')\n",
    "\n",
    "print(f\"cantidad de imdb_id sin nulos: {movies['imdb_id'].size}\")\n",
    "\n"
   ]
  },
  {
   "cell_type": "code",
   "execution_count": 24,
   "metadata": {},
   "outputs": [
    {
     "data": {
      "text/plain": [
       "(45333, 24)"
      ]
     },
     "execution_count": 24,
     "metadata": {},
     "output_type": "execute_result"
    }
   ],
   "source": [
    "movies.shape"
   ]
  },
  {
   "cell_type": "code",
   "execution_count": 6,
   "metadata": {},
   "outputs": [
    {
     "data": {
      "text/plain": [
       "(45333, 18)"
      ]
     },
     "execution_count": 6,
     "metadata": {},
     "output_type": "execute_result"
    }
   ],
   "source": [
    "#eliminar columnas video,imdb_id,adult,original_title,poster_path y homepage\n",
    "movies = movies.drop(columns=['video','imdb_id','adult','original_title','poster_path','homepage'])\n",
    "#dimensiones\n",
    "movies.shape"
   ]
  },
  {
   "cell_type": "code",
   "execution_count": 44,
   "metadata": {},
   "outputs": [
    {
     "data": {
      "text/plain": [
       "array([10,  1])"
      ]
     },
     "execution_count": 44,
     "metadata": {},
     "output_type": "execute_result"
    }
   ],
   "source": [
    "#hay una fecha no valida\n",
    "movies['release_date'].str.len().unique()"
   ]
  },
  {
   "cell_type": "code",
   "execution_count": 7,
   "metadata": {},
   "outputs": [
    {
     "data": {
      "text/plain": [
       "(45332, 18)"
      ]
     },
     "execution_count": 7,
     "metadata": {},
     "output_type": "execute_result"
    }
   ],
   "source": [
    "#eliminar fila con fecha no valida\n",
    "movies = movies.drop(movies[movies.release_date.str.len() == 1].index)\n",
    "movies.shape\n"
   ]
  },
  {
   "cell_type": "code",
   "execution_count": 8,
   "metadata": {},
   "outputs": [],
   "source": [
    "#formatear fecha\n",
    "movies['release_date'] = pd.to_datetime(movies['release_date'], format='%Y-%m-%d')"
   ]
  },
  {
   "cell_type": "code",
   "execution_count": 9,
   "metadata": {},
   "outputs": [],
   "source": [
    "#crear columna release_year a partir del año de relase_date\n",
    "movies['release_year'] = movies['release_date'].dt.year.astype('Int64')"
   ]
  },
  {
   "cell_type": "code",
   "execution_count": 13,
   "metadata": {},
   "outputs": [],
   "source": [
    "#crear campo return = revenue / budget\n",
    "#df['col4'] = df['col2'].div(df['col3']).replace(np.inf,0).fillna(0)\n",
    "movies['return'] = movies['revenue'].astype(int).div(movies['budget'].astype(int)).replace(np.inf,0).fillna(0)"
   ]
  },
  {
   "cell_type": "code",
   "execution_count": 14,
   "metadata": {},
   "outputs": [
    {
     "name": "stdout",
     "output_type": "stream",
     "text": [
      "<class 'pandas.core.frame.DataFrame'>\n",
      "Index: 45332 entries, 0 to 45465\n",
      "Data columns (total 20 columns):\n",
      " #   Column                 Non-Null Count  Dtype         \n",
      "---  ------                 --------------  -----         \n",
      " 0   belongs_to_collection  4483 non-null   object        \n",
      " 1   budget                 45332 non-null  object        \n",
      " 2   genres                 45332 non-null  object        \n",
      " 3   id                     45332 non-null  object        \n",
      " 4   original_language      45321 non-null  object        \n",
      " 5   overview               44393 non-null  object        \n",
      " 6   popularity             45332 non-null  object        \n",
      " 7   production_companies   45332 non-null  object        \n",
      " 8   production_countries   45332 non-null  object        \n",
      " 9   release_date           45332 non-null  datetime64[ns]\n",
      " 10  revenue                45332 non-null  float64       \n",
      " 11  runtime                45088 non-null  float64       \n",
      " 12  spoken_languages       45332 non-null  object        \n",
      " 13  status                 45252 non-null  object        \n",
      " 14  tagline                20385 non-null  object        \n",
      " 15  title                  45332 non-null  object        \n",
      " 16  vote_average           45332 non-null  float64       \n",
      " 17  vote_count             45332 non-null  float64       \n",
      " 18  release_year           45332 non-null  Int64         \n",
      " 19  return                 45332 non-null  float64       \n",
      "dtypes: Int64(1), datetime64[ns](1), float64(5), object(13)\n",
      "memory usage: 7.3+ MB\n"
     ]
    }
   ],
   "source": [
    "# Considero que no es necesario desanidar ninguno de los campos factibles de desanidar\n",
    "movies.info()\n",
    "\n"
   ]
  },
  {
   "cell_type": "code",
   "execution_count": 26,
   "metadata": {},
   "outputs": [],
   "source": [
    "#guardar como csv\n",
    "movies.to_csv(r'data/movies_depurado.csv',index=False)"
   ]
  },
  {
   "cell_type": "markdown",
   "metadata": {},
   "source": [
    "### Transformaciones exclusivas para ser consumidas por la api"
   ]
  },
  {
   "cell_type": "code",
   "execution_count": 94,
   "metadata": {},
   "outputs": [
    {
     "data": {
      "text/html": [
       "<div>\n",
       "<style scoped>\n",
       "    .dataframe tbody tr th:only-of-type {\n",
       "        vertical-align: middle;\n",
       "    }\n",
       "\n",
       "    .dataframe tbody tr th {\n",
       "        vertical-align: top;\n",
       "    }\n",
       "\n",
       "    .dataframe thead th {\n",
       "        text-align: right;\n",
       "    }\n",
       "</style>\n",
       "<table border=\"1\" class=\"dataframe\">\n",
       "  <thead>\n",
       "    <tr style=\"text-align: right;\">\n",
       "      <th></th>\n",
       "      <th>budget</th>\n",
       "      <th>id</th>\n",
       "      <th>popularity</th>\n",
       "      <th>release_date</th>\n",
       "      <th>revenue</th>\n",
       "      <th>title</th>\n",
       "      <th>vote_average</th>\n",
       "      <th>vote_count</th>\n",
       "      <th>return</th>\n",
       "    </tr>\n",
       "  </thead>\n",
       "  <tbody>\n",
       "    <tr>\n",
       "      <th>0</th>\n",
       "      <td>30000000</td>\n",
       "      <td>862</td>\n",
       "      <td>21.946943</td>\n",
       "      <td>1995-10-30</td>\n",
       "      <td>373554033.0</td>\n",
       "      <td>Toy Story</td>\n",
       "      <td>7.7</td>\n",
       "      <td>5415.0</td>\n",
       "      <td>12.451801</td>\n",
       "    </tr>\n",
       "    <tr>\n",
       "      <th>1</th>\n",
       "      <td>65000000</td>\n",
       "      <td>8844</td>\n",
       "      <td>17.015539</td>\n",
       "      <td>1995-12-15</td>\n",
       "      <td>262797249.0</td>\n",
       "      <td>Jumanji</td>\n",
       "      <td>6.9</td>\n",
       "      <td>2413.0</td>\n",
       "      <td>4.043035</td>\n",
       "    </tr>\n",
       "    <tr>\n",
       "      <th>2</th>\n",
       "      <td>0</td>\n",
       "      <td>15602</td>\n",
       "      <td>11.712900</td>\n",
       "      <td>1995-12-22</td>\n",
       "      <td>0.0</td>\n",
       "      <td>Grumpier Old Men</td>\n",
       "      <td>6.5</td>\n",
       "      <td>92.0</td>\n",
       "      <td>0.000000</td>\n",
       "    </tr>\n",
       "    <tr>\n",
       "      <th>3</th>\n",
       "      <td>16000000</td>\n",
       "      <td>31357</td>\n",
       "      <td>3.859495</td>\n",
       "      <td>1995-12-22</td>\n",
       "      <td>81452156.0</td>\n",
       "      <td>Waiting to Exhale</td>\n",
       "      <td>6.1</td>\n",
       "      <td>34.0</td>\n",
       "      <td>5.090760</td>\n",
       "    </tr>\n",
       "    <tr>\n",
       "      <th>4</th>\n",
       "      <td>0</td>\n",
       "      <td>11862</td>\n",
       "      <td>8.387519</td>\n",
       "      <td>1995-02-10</td>\n",
       "      <td>76578911.0</td>\n",
       "      <td>Father of the Bride Part II</td>\n",
       "      <td>5.7</td>\n",
       "      <td>173.0</td>\n",
       "      <td>0.000000</td>\n",
       "    </tr>\n",
       "  </tbody>\n",
       "</table>\n",
       "</div>"
      ],
      "text/plain": [
       "     budget     id  popularity release_date      revenue  \\\n",
       "0  30000000    862   21.946943   1995-10-30  373554033.0   \n",
       "1  65000000   8844   17.015539   1995-12-15  262797249.0   \n",
       "2         0  15602   11.712900   1995-12-22          0.0   \n",
       "3  16000000  31357    3.859495   1995-12-22   81452156.0   \n",
       "4         0  11862    8.387519   1995-02-10   76578911.0   \n",
       "\n",
       "                         title  vote_average  vote_count     return  \n",
       "0                    Toy Story           7.7      5415.0  12.451801  \n",
       "1                      Jumanji           6.9      2413.0   4.043035  \n",
       "2             Grumpier Old Men           6.5        92.0   0.000000  \n",
       "3            Waiting to Exhale           6.1        34.0   5.090760  \n",
       "4  Father of the Bride Part II           5.7       173.0   0.000000  "
      ]
     },
     "execution_count": 94,
     "metadata": {},
     "output_type": "execute_result"
    }
   ],
   "source": [
    "#se crea una BD exclusiva para se consumida por la api\n",
    "movies_depurado =  pd.read_csv('data/movies_depurado.csv', usecols=['id','release_date','title','vote_average','vote_count','popularity','return', 'budget', 'revenue'], parse_dates=[\"release_date\"], date_format='%Y-%m-%d', delimiter = ',',encoding = \"utf-8\",low_memory=False)\n",
    "movies_depurado.head()"
   ]
  },
  {
   "cell_type": "code",
   "execution_count": 35,
   "metadata": {},
   "outputs": [
    {
     "name": "stdout",
     "output_type": "stream",
     "text": [
      "<class 'pandas.core.frame.DataFrame'>\n",
      "RangeIndex: 45332 entries, 0 to 45331\n",
      "Data columns (total 1 columns):\n",
      " #   Column        Non-Null Count  Dtype         \n",
      "---  ------        --------------  -----         \n",
      " 0   release_date  45332 non-null  datetime64[ns]\n",
      "dtypes: datetime64[ns](1)\n",
      "memory usage: 354.3 KB\n"
     ]
    }
   ],
   "source": [
    "movies_depurado.info()"
   ]
  },
  {
   "cell_type": "code",
   "execution_count": 41,
   "metadata": {},
   "outputs": [
    {
     "data": {
      "text/html": [
       "<div>\n",
       "<style scoped>\n",
       "    .dataframe tbody tr th:only-of-type {\n",
       "        vertical-align: middle;\n",
       "    }\n",
       "\n",
       "    .dataframe tbody tr th {\n",
       "        vertical-align: top;\n",
       "    }\n",
       "\n",
       "    .dataframe thead th {\n",
       "        text-align: right;\n",
       "    }\n",
       "</style>\n",
       "<table border=\"1\" class=\"dataframe\">\n",
       "  <thead>\n",
       "    <tr style=\"text-align: right;\">\n",
       "      <th></th>\n",
       "      <th>release_date</th>\n",
       "      <th>mes</th>\n",
       "      <th>week_day</th>\n",
       "    </tr>\n",
       "  </thead>\n",
       "  <tbody>\n",
       "    <tr>\n",
       "      <th>0</th>\n",
       "      <td>1995-10-30</td>\n",
       "      <td>10</td>\n",
       "      <td>0</td>\n",
       "    </tr>\n",
       "    <tr>\n",
       "      <th>1</th>\n",
       "      <td>1995-12-15</td>\n",
       "      <td>12</td>\n",
       "      <td>4</td>\n",
       "    </tr>\n",
       "    <tr>\n",
       "      <th>2</th>\n",
       "      <td>1995-12-22</td>\n",
       "      <td>12</td>\n",
       "      <td>4</td>\n",
       "    </tr>\n",
       "    <tr>\n",
       "      <th>3</th>\n",
       "      <td>1995-12-22</td>\n",
       "      <td>12</td>\n",
       "      <td>4</td>\n",
       "    </tr>\n",
       "    <tr>\n",
       "      <th>4</th>\n",
       "      <td>1995-02-10</td>\n",
       "      <td>2</td>\n",
       "      <td>4</td>\n",
       "    </tr>\n",
       "  </tbody>\n",
       "</table>\n",
       "</div>"
      ],
      "text/plain": [
       "  release_date  mes  week_day\n",
       "0   1995-10-30   10         0\n",
       "1   1995-12-15   12         4\n",
       "2   1995-12-22   12         4\n",
       "3   1995-12-22   12         4\n",
       "4   1995-02-10    2         4"
      ]
     },
     "execution_count": 41,
     "metadata": {},
     "output_type": "execute_result"
    }
   ],
   "source": [
    "movies_depurado.head()"
   ]
  },
  {
   "cell_type": "code",
   "execution_count": 95,
   "metadata": {},
   "outputs": [],
   "source": [
    "#guardar como csv\n",
    "movies_depurado.to_csv(r'data/movies_api.csv',index=False)"
   ]
  },
  {
   "cell_type": "markdown",
   "metadata": {},
   "source": [
    "# credits ETL\n",
    "\n",
    "Se utiliza ast por que el json no esta en un formato standard, las keys estan encerradas en comillas simples"
   ]
  },
  {
   "cell_type": "code",
   "execution_count": 3,
   "metadata": {},
   "outputs": [
    {
     "data": {
      "text/html": [
       "<div>\n",
       "<style scoped>\n",
       "    .dataframe tbody tr th:only-of-type {\n",
       "        vertical-align: middle;\n",
       "    }\n",
       "\n",
       "    .dataframe tbody tr th {\n",
       "        vertical-align: top;\n",
       "    }\n",
       "\n",
       "    .dataframe thead th {\n",
       "        text-align: right;\n",
       "    }\n",
       "</style>\n",
       "<table border=\"1\" class=\"dataframe\">\n",
       "  <thead>\n",
       "    <tr style=\"text-align: right;\">\n",
       "      <th></th>\n",
       "      <th>cast</th>\n",
       "      <th>crew</th>\n",
       "      <th>id</th>\n",
       "    </tr>\n",
       "  </thead>\n",
       "  <tbody>\n",
       "    <tr>\n",
       "      <th>0</th>\n",
       "      <td>[{'cast_id': 14, 'character': 'Woody (voice)',...</td>\n",
       "      <td>[{'credit_id': '52fe4284c3a36847f8024f49', 'de...</td>\n",
       "      <td>862</td>\n",
       "    </tr>\n",
       "  </tbody>\n",
       "</table>\n",
       "</div>"
      ],
      "text/plain": [
       "                                                cast  \\\n",
       "0  [{'cast_id': 14, 'character': 'Woody (voice)',...   \n",
       "\n",
       "                                                crew   id  \n",
       "0  [{'credit_id': '52fe4284c3a36847f8024f49', 'de...  862  "
      ]
     },
     "execution_count": 3,
     "metadata": {},
     "output_type": "execute_result"
    }
   ],
   "source": [
    "#lectura y copia de seguridad\n",
    "credits = pd.read_csv('data/credits.csv',delimiter = ',',encoding = \"utf-8\",low_memory=False)\n",
    "credits_ori = credits.copy()\n",
    "credits.head(1)"
   ]
  },
  {
   "cell_type": "code",
   "execution_count": 28,
   "metadata": {},
   "outputs": [
    {
     "data": {
      "text/plain": [
       "(25799, 3)"
      ]
     },
     "execution_count": 28,
     "metadata": {},
     "output_type": "execute_result"
    }
   ],
   "source": [
    "#dimensiones\n",
    "credits.shape"
   ]
  },
  {
   "cell_type": "code",
   "execution_count": 7,
   "metadata": {},
   "outputs": [],
   "source": [
    "#preparo un archivo mas chico para pruebas\n",
    "credits_small = credits.head(20)\n",
    "#guardar como csv\n",
    "credits_small.to_csv(r'data/credits_small.csv',index=False)"
   ]
  },
  {
   "cell_type": "code",
   "execution_count": 30,
   "metadata": {},
   "outputs": [
    {
     "name": "stdout",
     "output_type": "stream",
     "text": [
      "(1026788, 5)\n",
      "<class 'pandas.core.frame.DataFrame'>\n",
      "RangeIndex: 1026788 entries, 0 to 1026787\n",
      "Data columns (total 5 columns):\n",
      " #   Column  Non-Null Count    Dtype \n",
      "---  ------  --------------    ----- \n",
      " 0   mov_id  1026788 non-null  int64 \n",
      " 1   gender  1026788 non-null  int64 \n",
      " 2   id_job  1026788 non-null  int64 \n",
      " 3   name    1026788 non-null  object\n",
      " 4   job     1026788 non-null  object\n",
      "dtypes: int64(3), object(2)\n",
      "memory usage: 39.2+ MB\n"
     ]
    }
   ],
   "source": [
    "# se desanidará y se conservaran los siguientes campos:\n",
    "# gender ,id (id_job) ,name ,job (para los actores será 'actor')\n",
    "\n",
    "data = []\n",
    "for indice, fila in credits.iterrows():\n",
    "    mov_id = fila['id']\n",
    "    cast = fila['cast']\n",
    "    crew = fila['crew']\n",
    "\n",
    "    actores = ast.literal_eval(cast)\n",
    "    for actor in actores:\n",
    "        ele = {'mov_id':mov_id,'gender':actor['gender'],'id_job':actor['id'],'name':actor['name'],'job':'actor'}\n",
    "        data.append(ele)        \n",
    "    \n",
    "    colabs = ast.literal_eval(crew)\n",
    "    for col in colabs:\n",
    "        ele = {'mov_id':mov_id,'gender':col['gender'],'id_job':col['id'],'name':col['name'],'job':col['job']}\n",
    "        data.append(ele)  \n",
    "    \n",
    "df_credits = pd.DataFrame(data)\n",
    "#dimensiones\n",
    "print(df_credits.shape)\n",
    "df_credits.info()\n",
    "\n",
    "df_credits.to_csv(r'data/credits_flat.csv',index=False)\n"
   ]
  }
 ],
 "metadata": {
  "kernelspec": {
   "display_name": "Python 3",
   "language": "python",
   "name": "python3"
  },
  "language_info": {
   "codemirror_mode": {
    "name": "ipython",
    "version": 3
   },
   "file_extension": ".py",
   "mimetype": "text/x-python",
   "name": "python",
   "nbconvert_exporter": "python",
   "pygments_lexer": "ipython3",
   "version": "3.10.12"
  }
 },
 "nbformat": 4,
 "nbformat_minor": 2
}
